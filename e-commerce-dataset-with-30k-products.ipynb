{
 "cells": [
  {
   "cell_type": "code",
   "execution_count": 1,
   "id": "a56715d0",
   "metadata": {
    "_cell_guid": "b1076dfc-b9ad-4769-8c92-a6c4dae69d19",
    "_uuid": "8f2839f25d086af736a60e9eeb907d3b93b6e0e5",
    "execution": {
     "iopub.execute_input": "2022-07-31T19:13:54.405781Z",
     "iopub.status.busy": "2022-07-31T19:13:54.405323Z",
     "iopub.status.idle": "2022-07-31T19:13:55.514135Z",
     "shell.execute_reply": "2022-07-31T19:13:55.512935Z"
    },
    "papermill": {
     "duration": 1.121593,
     "end_time": "2022-07-31T19:13:55.517815",
     "exception": false,
     "start_time": "2022-07-31T19:13:54.396222",
     "status": "completed"
    },
    "tags": []
   },
   "outputs": [
    {
     "name": "stdout",
     "output_type": "stream",
     "text": [
      "/kaggle/input/ecommerce-fashion-dataset/FashionDataset.csv\n"
     ]
    }
   ],
   "source": [
    "# This Python 3 environment comes with many helpful analytics libraries installed\n",
    "# It is defined by the kaggle/python Docker image: https://github.com/kaggle/docker-python\n",
    "# For example, here's several helpful packages to load\n",
    "\n",
    "import numpy as np # linear algebra\n",
    "import pandas as pd # data processing, CSV file I/O (e.g. pd.read_csv)\n",
    "import matplotlib.pyplot as plt\n",
    "import seaborn as sns\n",
    "\n",
    "# Input data files are available in the read-only \"../input/\" directory\n",
    "# For example, running this (by clicking run or pressing Shift+Enter) will list all files under the input directory\n",
    "\n",
    "import os\n",
    "for dirname, _, filenames in os.walk('/kaggle/input'):\n",
    "    for filename in filenames:\n",
    "        print(os.path.join(dirname, filename))\n",
    "\n",
    "# You can write up to 20GB to the current directory (/kaggle/working/) that gets preserved as output when you create a version using \"Save & Run All\" \n",
    "# You can also write temporary files to /kaggle/temp/, but they won't be saved outside of the current session"
   ]
  },
  {
   "cell_type": "code",
   "execution_count": 2,
   "id": "94135624",
   "metadata": {
    "execution": {
     "iopub.execute_input": "2022-07-31T19:13:55.533301Z",
     "iopub.status.busy": "2022-07-31T19:13:55.532912Z",
     "iopub.status.idle": "2022-07-31T19:13:55.659997Z",
     "shell.execute_reply": "2022-07-31T19:13:55.658987Z"
    },
    "papermill": {
     "duration": 0.136929,
     "end_time": "2022-07-31T19:13:55.662497",
     "exception": false,
     "start_time": "2022-07-31T19:13:55.525568",
     "status": "completed"
    },
    "tags": []
   },
   "outputs": [],
   "source": [
    "data=pd.read_csv('../input/ecommerce-fashion-dataset/FashionDataset.csv')"
   ]
  },
  {
   "cell_type": "code",
   "execution_count": 3,
   "id": "00a85434",
   "metadata": {
    "execution": {
     "iopub.execute_input": "2022-07-31T19:13:55.675957Z",
     "iopub.status.busy": "2022-07-31T19:13:55.675544Z",
     "iopub.status.idle": "2022-07-31T19:13:55.683257Z",
     "shell.execute_reply": "2022-07-31T19:13:55.682321Z"
    },
    "papermill": {
     "duration": 0.016836,
     "end_time": "2022-07-31T19:13:55.685145",
     "exception": false,
     "start_time": "2022-07-31T19:13:55.668309",
     "status": "completed"
    },
    "tags": []
   },
   "outputs": [
    {
     "data": {
      "text/plain": [
       "(30758, 8)"
      ]
     },
     "execution_count": 3,
     "metadata": {},
     "output_type": "execute_result"
    }
   ],
   "source": [
    "data.shape"
   ]
  },
  {
   "cell_type": "code",
   "execution_count": 4,
   "id": "b38c8068",
   "metadata": {
    "execution": {
     "iopub.execute_input": "2022-07-31T19:13:55.699240Z",
     "iopub.status.busy": "2022-07-31T19:13:55.698580Z",
     "iopub.status.idle": "2022-07-31T19:13:55.720491Z",
     "shell.execute_reply": "2022-07-31T19:13:55.719307Z"
    },
    "papermill": {
     "duration": 0.031785,
     "end_time": "2022-07-31T19:13:55.722969",
     "exception": false,
     "start_time": "2022-07-31T19:13:55.691184",
     "status": "completed"
    },
    "tags": []
   },
   "outputs": [
    {
     "data": {
      "text/html": [
       "<div>\n",
       "<style scoped>\n",
       "    .dataframe tbody tr th:only-of-type {\n",
       "        vertical-align: middle;\n",
       "    }\n",
       "\n",
       "    .dataframe tbody tr th {\n",
       "        vertical-align: top;\n",
       "    }\n",
       "\n",
       "    .dataframe thead th {\n",
       "        text-align: right;\n",
       "    }\n",
       "</style>\n",
       "<table border=\"1\" class=\"dataframe\">\n",
       "  <thead>\n",
       "    <tr style=\"text-align: right;\">\n",
       "      <th></th>\n",
       "      <th>Unnamed: 0</th>\n",
       "      <th>BrandName</th>\n",
       "      <th>Deatils</th>\n",
       "      <th>Sizes</th>\n",
       "      <th>MRP</th>\n",
       "      <th>SellPrice</th>\n",
       "      <th>Discount</th>\n",
       "      <th>Category</th>\n",
       "    </tr>\n",
       "  </thead>\n",
       "  <tbody>\n",
       "    <tr>\n",
       "      <th>0</th>\n",
       "      <td>0</td>\n",
       "      <td>life</td>\n",
       "      <td>solid cotton blend collar neck womens a-line d...</td>\n",
       "      <td>Size:Large,Medium,Small,X-Large,X-Small</td>\n",
       "      <td>Rs\\n1699</td>\n",
       "      <td>849</td>\n",
       "      <td>50% off</td>\n",
       "      <td>Westernwear-Women</td>\n",
       "    </tr>\n",
       "    <tr>\n",
       "      <th>1</th>\n",
       "      <td>1</td>\n",
       "      <td>only</td>\n",
       "      <td>polyester peter pan collar womens blouson dres...</td>\n",
       "      <td>Size:34,36,38,40</td>\n",
       "      <td>Rs\\n3499</td>\n",
       "      <td>2449</td>\n",
       "      <td>30% off</td>\n",
       "      <td>Westernwear-Women</td>\n",
       "    </tr>\n",
       "    <tr>\n",
       "      <th>2</th>\n",
       "      <td>2</td>\n",
       "      <td>fratini</td>\n",
       "      <td>solid polyester blend wide neck womens regular...</td>\n",
       "      <td>Size:Large,X-Large,XX-Large</td>\n",
       "      <td>Rs\\n1199</td>\n",
       "      <td>599</td>\n",
       "      <td>50% off</td>\n",
       "      <td>Westernwear-Women</td>\n",
       "    </tr>\n",
       "    <tr>\n",
       "      <th>3</th>\n",
       "      <td>3</td>\n",
       "      <td>zink london</td>\n",
       "      <td>stripes polyester sweetheart neck womens dress...</td>\n",
       "      <td>Size:Large,Medium,Small,X-Large</td>\n",
       "      <td>Rs\\n2299</td>\n",
       "      <td>1379</td>\n",
       "      <td>40% off</td>\n",
       "      <td>Westernwear-Women</td>\n",
       "    </tr>\n",
       "    <tr>\n",
       "      <th>4</th>\n",
       "      <td>4</td>\n",
       "      <td>life</td>\n",
       "      <td>regular fit regular length denim womens jeans ...</td>\n",
       "      <td>Size:26,28,30,32,34,36</td>\n",
       "      <td>Rs\\n1699</td>\n",
       "      <td>849</td>\n",
       "      <td>50% off</td>\n",
       "      <td>Westernwear-Women</td>\n",
       "    </tr>\n",
       "    <tr>\n",
       "      <th>5</th>\n",
       "      <td>5</td>\n",
       "      <td>kraus</td>\n",
       "      <td>wide ankle length cotton womens jeans - light ...</td>\n",
       "      <td>Size:26,28,30,32,34</td>\n",
       "      <td>Rs\\n1795</td>\n",
       "      <td>1615</td>\n",
       "      <td>10% off</td>\n",
       "      <td>Westernwear-Women</td>\n",
       "    </tr>\n",
       "    <tr>\n",
       "      <th>6</th>\n",
       "      <td>6</td>\n",
       "      <td>life</td>\n",
       "      <td>printed cotton blend collared womens regular d...</td>\n",
       "      <td>Size:Large,Medium,Small,X-Large,X-Small</td>\n",
       "      <td>Rs\\n1299</td>\n",
       "      <td>649</td>\n",
       "      <td>50% off</td>\n",
       "      <td>Westernwear-Women</td>\n",
       "    </tr>\n",
       "    <tr>\n",
       "      <th>7</th>\n",
       "      <td>7</td>\n",
       "      <td>fratini</td>\n",
       "      <td>embroidered wide neck polyester womens regular...</td>\n",
       "      <td>Size:XX-Large</td>\n",
       "      <td>Rs\\n1299</td>\n",
       "      <td>649</td>\n",
       "      <td>50% off</td>\n",
       "      <td>Westernwear-Women</td>\n",
       "    </tr>\n",
       "    <tr>\n",
       "      <th>8</th>\n",
       "      <td>8</td>\n",
       "      <td>rare</td>\n",
       "      <td>floral polyester v neck womens flared dress - ...</td>\n",
       "      <td>Size:Large,Medium,Small,X-Large</td>\n",
       "      <td>Rs\\n2099</td>\n",
       "      <td>839</td>\n",
       "      <td>60% off</td>\n",
       "      <td>Westernwear-Women</td>\n",
       "    </tr>\n",
       "    <tr>\n",
       "      <th>9</th>\n",
       "      <td>9</td>\n",
       "      <td>rare</td>\n",
       "      <td>checks cotton boat neck womens regular top - b...</td>\n",
       "      <td>Size:Medium,Small,X-Large</td>\n",
       "      <td>Rs\\n1499</td>\n",
       "      <td>599</td>\n",
       "      <td>60% off</td>\n",
       "      <td>Westernwear-Women</td>\n",
       "    </tr>\n",
       "  </tbody>\n",
       "</table>\n",
       "</div>"
      ],
      "text/plain": [
       "   Unnamed: 0    BrandName                                            Deatils  \\\n",
       "0           0         life  solid cotton blend collar neck womens a-line d...   \n",
       "1           1         only  polyester peter pan collar womens blouson dres...   \n",
       "2           2      fratini  solid polyester blend wide neck womens regular...   \n",
       "3           3  zink london  stripes polyester sweetheart neck womens dress...   \n",
       "4           4         life  regular fit regular length denim womens jeans ...   \n",
       "5           5        kraus  wide ankle length cotton womens jeans - light ...   \n",
       "6           6         life  printed cotton blend collared womens regular d...   \n",
       "7           7      fratini  embroidered wide neck polyester womens regular...   \n",
       "8           8         rare  floral polyester v neck womens flared dress - ...   \n",
       "9           9         rare  checks cotton boat neck womens regular top - b...   \n",
       "\n",
       "                                     Sizes       MRP SellPrice Discount  \\\n",
       "0  Size:Large,Medium,Small,X-Large,X-Small  Rs\\n1699       849  50% off   \n",
       "1                         Size:34,36,38,40  Rs\\n3499      2449  30% off   \n",
       "2              Size:Large,X-Large,XX-Large  Rs\\n1199       599  50% off   \n",
       "3          Size:Large,Medium,Small,X-Large  Rs\\n2299      1379  40% off   \n",
       "4                   Size:26,28,30,32,34,36  Rs\\n1699       849  50% off   \n",
       "5                      Size:26,28,30,32,34  Rs\\n1795      1615  10% off   \n",
       "6  Size:Large,Medium,Small,X-Large,X-Small  Rs\\n1299       649  50% off   \n",
       "7                            Size:XX-Large  Rs\\n1299       649  50% off   \n",
       "8          Size:Large,Medium,Small,X-Large  Rs\\n2099       839  60% off   \n",
       "9                Size:Medium,Small,X-Large  Rs\\n1499       599  60% off   \n",
       "\n",
       "            Category  \n",
       "0  Westernwear-Women  \n",
       "1  Westernwear-Women  \n",
       "2  Westernwear-Women  \n",
       "3  Westernwear-Women  \n",
       "4  Westernwear-Women  \n",
       "5  Westernwear-Women  \n",
       "6  Westernwear-Women  \n",
       "7  Westernwear-Women  \n",
       "8  Westernwear-Women  \n",
       "9  Westernwear-Women  "
      ]
     },
     "execution_count": 4,
     "metadata": {},
     "output_type": "execute_result"
    }
   ],
   "source": [
    "data.head(10)"
   ]
  },
  {
   "cell_type": "code",
   "execution_count": 5,
   "id": "a8e29cc8",
   "metadata": {
    "execution": {
     "iopub.execute_input": "2022-07-31T19:13:55.737585Z",
     "iopub.status.busy": "2022-07-31T19:13:55.736861Z",
     "iopub.status.idle": "2022-07-31T19:13:55.748036Z",
     "shell.execute_reply": "2022-07-31T19:13:55.747120Z"
    },
    "papermill": {
     "duration": 0.021538,
     "end_time": "2022-07-31T19:13:55.751080",
     "exception": false,
     "start_time": "2022-07-31T19:13:55.729542",
     "status": "completed"
    },
    "tags": []
   },
   "outputs": [
    {
     "data": {
      "text/plain": [
       "<bound method DataFrame.info of        Unnamed: 0    BrandName  \\\n",
       "0               0         life   \n",
       "1               1         only   \n",
       "2               2      fratini   \n",
       "3               3  zink london   \n",
       "4               4         life   \n",
       "...           ...          ...   \n",
       "30753          21    swarovski   \n",
       "30754          22          Nan   \n",
       "30755          23       jewelz   \n",
       "30756          24      estelle   \n",
       "30757          25      estelle   \n",
       "\n",
       "                                                 Deatils  \\\n",
       "0      solid cotton blend collar neck womens a-line d...   \n",
       "1      polyester peter pan collar womens blouson dres...   \n",
       "2      solid polyester blend wide neck womens regular...   \n",
       "3      stripes polyester sweetheart neck womens dress...   \n",
       "4      regular fit regular length denim womens jeans ...   \n",
       "...                                                  ...   \n",
       "30753            crystal stylish womens rodhium earrings   \n",
       "30754                                                Nan   \n",
       "30755                 ethnic gold plated jhumki earrings   \n",
       "30756  womens gold plated double line fancy white and...   \n",
       "30757  womens gold plated bridge designer mangalsutra...   \n",
       "\n",
       "                                         Sizes       MRP SellPrice Discount  \\\n",
       "0      Size:Large,Medium,Small,X-Large,X-Small  Rs\\n1699       849  50% off   \n",
       "1                             Size:34,36,38,40  Rs\\n3499      2449  30% off   \n",
       "2                  Size:Large,X-Large,XX-Large  Rs\\n1199       599  50% off   \n",
       "3              Size:Large,Medium,Small,X-Large  Rs\\n2299      1379  40% off   \n",
       "4                       Size:26,28,30,32,34,36  Rs\\n1699       849  50% off   \n",
       "...                                        ...       ...       ...      ...   \n",
       "30753                                      Nan       Nan      8950      Nan   \n",
       "30754                                      Nan       Nan       Nan      Nan   \n",
       "30755                                      Nan  Rs\\n1839       643  65% off   \n",
       "30756                                      Nan       Nan      2799      Nan   \n",
       "30757                                      Nan       Nan      1899      Nan   \n",
       "\n",
       "                Category  \n",
       "0      Westernwear-Women  \n",
       "1      Westernwear-Women  \n",
       "2      Westernwear-Women  \n",
       "3      Westernwear-Women  \n",
       "4      Westernwear-Women  \n",
       "...                  ...  \n",
       "30753    Jewellery-Women  \n",
       "30754    Jewellery-Women  \n",
       "30755    Jewellery-Women  \n",
       "30756    Jewellery-Women  \n",
       "30757    Jewellery-Women  \n",
       "\n",
       "[30758 rows x 8 columns]>"
      ]
     },
     "execution_count": 5,
     "metadata": {},
     "output_type": "execute_result"
    }
   ],
   "source": [
    "data.info"
   ]
  },
  {
   "cell_type": "code",
   "execution_count": 6,
   "id": "814c8b27",
   "metadata": {
    "execution": {
     "iopub.execute_input": "2022-07-31T19:13:55.765105Z",
     "iopub.status.busy": "2022-07-31T19:13:55.764731Z",
     "iopub.status.idle": "2022-07-31T19:13:55.776339Z",
     "shell.execute_reply": "2022-07-31T19:13:55.775514Z"
    },
    "papermill": {
     "duration": 0.02133,
     "end_time": "2022-07-31T19:13:55.778536",
     "exception": false,
     "start_time": "2022-07-31T19:13:55.757206",
     "status": "completed"
    },
    "tags": []
   },
   "outputs": [
    {
     "data": {
      "text/plain": [
       "<bound method NDFrame.describe of        Unnamed: 0    BrandName  \\\n",
       "0               0         life   \n",
       "1               1         only   \n",
       "2               2      fratini   \n",
       "3               3  zink london   \n",
       "4               4         life   \n",
       "...           ...          ...   \n",
       "30753          21    swarovski   \n",
       "30754          22          Nan   \n",
       "30755          23       jewelz   \n",
       "30756          24      estelle   \n",
       "30757          25      estelle   \n",
       "\n",
       "                                                 Deatils  \\\n",
       "0      solid cotton blend collar neck womens a-line d...   \n",
       "1      polyester peter pan collar womens blouson dres...   \n",
       "2      solid polyester blend wide neck womens regular...   \n",
       "3      stripes polyester sweetheart neck womens dress...   \n",
       "4      regular fit regular length denim womens jeans ...   \n",
       "...                                                  ...   \n",
       "30753            crystal stylish womens rodhium earrings   \n",
       "30754                                                Nan   \n",
       "30755                 ethnic gold plated jhumki earrings   \n",
       "30756  womens gold plated double line fancy white and...   \n",
       "30757  womens gold plated bridge designer mangalsutra...   \n",
       "\n",
       "                                         Sizes       MRP SellPrice Discount  \\\n",
       "0      Size:Large,Medium,Small,X-Large,X-Small  Rs\\n1699       849  50% off   \n",
       "1                             Size:34,36,38,40  Rs\\n3499      2449  30% off   \n",
       "2                  Size:Large,X-Large,XX-Large  Rs\\n1199       599  50% off   \n",
       "3              Size:Large,Medium,Small,X-Large  Rs\\n2299      1379  40% off   \n",
       "4                       Size:26,28,30,32,34,36  Rs\\n1699       849  50% off   \n",
       "...                                        ...       ...       ...      ...   \n",
       "30753                                      Nan       Nan      8950      Nan   \n",
       "30754                                      Nan       Nan       Nan      Nan   \n",
       "30755                                      Nan  Rs\\n1839       643  65% off   \n",
       "30756                                      Nan       Nan      2799      Nan   \n",
       "30757                                      Nan       Nan      1899      Nan   \n",
       "\n",
       "                Category  \n",
       "0      Westernwear-Women  \n",
       "1      Westernwear-Women  \n",
       "2      Westernwear-Women  \n",
       "3      Westernwear-Women  \n",
       "4      Westernwear-Women  \n",
       "...                  ...  \n",
       "30753    Jewellery-Women  \n",
       "30754    Jewellery-Women  \n",
       "30755    Jewellery-Women  \n",
       "30756    Jewellery-Women  \n",
       "30757    Jewellery-Women  \n",
       "\n",
       "[30758 rows x 8 columns]>"
      ]
     },
     "execution_count": 6,
     "metadata": {},
     "output_type": "execute_result"
    }
   ],
   "source": [
    "data.describe"
   ]
  },
  {
   "cell_type": "code",
   "execution_count": 7,
   "id": "b4247f4a",
   "metadata": {
    "execution": {
     "iopub.execute_input": "2022-07-31T19:13:55.793591Z",
     "iopub.status.busy": "2022-07-31T19:13:55.792900Z",
     "iopub.status.idle": "2022-07-31T19:13:55.798703Z",
     "shell.execute_reply": "2022-07-31T19:13:55.797565Z"
    },
    "papermill": {
     "duration": 0.015667,
     "end_time": "2022-07-31T19:13:55.800730",
     "exception": false,
     "start_time": "2022-07-31T19:13:55.785063",
     "status": "completed"
    },
    "tags": []
   },
   "outputs": [
    {
     "data": {
      "text/plain": [
       "Index(['Unnamed: 0', 'BrandName', 'Deatils', 'Sizes', 'MRP', 'SellPrice',\n",
       "       'Discount', 'Category'],\n",
       "      dtype='object')"
      ]
     },
     "execution_count": 7,
     "metadata": {},
     "output_type": "execute_result"
    }
   ],
   "source": [
    "data.columns"
   ]
  },
  {
   "cell_type": "code",
   "execution_count": 8,
   "id": "217915e0",
   "metadata": {
    "execution": {
     "iopub.execute_input": "2022-07-31T19:13:55.815948Z",
     "iopub.status.busy": "2022-07-31T19:13:55.815227Z",
     "iopub.status.idle": "2022-07-31T19:13:55.822522Z",
     "shell.execute_reply": "2022-07-31T19:13:55.821383Z"
    },
    "papermill": {
     "duration": 0.017644,
     "end_time": "2022-07-31T19:13:55.824924",
     "exception": false,
     "start_time": "2022-07-31T19:13:55.807280",
     "status": "completed"
    },
    "tags": []
   },
   "outputs": [
    {
     "data": {
      "text/plain": [
       "Unnamed: 0     int64\n",
       "BrandName     object\n",
       "Deatils       object\n",
       "Sizes         object\n",
       "MRP           object\n",
       "SellPrice     object\n",
       "Discount      object\n",
       "Category      object\n",
       "dtype: object"
      ]
     },
     "execution_count": 8,
     "metadata": {},
     "output_type": "execute_result"
    }
   ],
   "source": [
    "data.dtypes"
   ]
  },
  {
   "cell_type": "code",
   "execution_count": 9,
   "id": "09b9f575",
   "metadata": {
    "execution": {
     "iopub.execute_input": "2022-07-31T19:13:55.839993Z",
     "iopub.status.busy": "2022-07-31T19:13:55.839624Z",
     "iopub.status.idle": "2022-07-31T19:13:55.865111Z",
     "shell.execute_reply": "2022-07-31T19:13:55.863922Z"
    },
    "papermill": {
     "duration": 0.03623,
     "end_time": "2022-07-31T19:13:55.867850",
     "exception": false,
     "start_time": "2022-07-31T19:13:55.831620",
     "status": "completed"
    },
    "tags": []
   },
   "outputs": [
    {
     "data": {
      "text/html": [
       "<div>\n",
       "<style scoped>\n",
       "    .dataframe tbody tr th:only-of-type {\n",
       "        vertical-align: middle;\n",
       "    }\n",
       "\n",
       "    .dataframe tbody tr th {\n",
       "        vertical-align: top;\n",
       "    }\n",
       "\n",
       "    .dataframe thead th {\n",
       "        text-align: right;\n",
       "    }\n",
       "</style>\n",
       "<table border=\"1\" class=\"dataframe\">\n",
       "  <thead>\n",
       "    <tr style=\"text-align: right;\">\n",
       "      <th></th>\n",
       "      <th>Unnamed: 0</th>\n",
       "      <th>BrandName</th>\n",
       "      <th>Deatils</th>\n",
       "      <th>Sizes</th>\n",
       "      <th>MRP</th>\n",
       "      <th>SellPrice</th>\n",
       "      <th>Discount</th>\n",
       "      <th>Category</th>\n",
       "    </tr>\n",
       "  </thead>\n",
       "  <tbody>\n",
       "    <tr>\n",
       "      <th>0</th>\n",
       "      <td>False</td>\n",
       "      <td>False</td>\n",
       "      <td>False</td>\n",
       "      <td>False</td>\n",
       "      <td>False</td>\n",
       "      <td>False</td>\n",
       "      <td>False</td>\n",
       "      <td>False</td>\n",
       "    </tr>\n",
       "    <tr>\n",
       "      <th>1</th>\n",
       "      <td>False</td>\n",
       "      <td>False</td>\n",
       "      <td>False</td>\n",
       "      <td>False</td>\n",
       "      <td>False</td>\n",
       "      <td>False</td>\n",
       "      <td>False</td>\n",
       "      <td>False</td>\n",
       "    </tr>\n",
       "    <tr>\n",
       "      <th>2</th>\n",
       "      <td>False</td>\n",
       "      <td>False</td>\n",
       "      <td>False</td>\n",
       "      <td>False</td>\n",
       "      <td>False</td>\n",
       "      <td>False</td>\n",
       "      <td>False</td>\n",
       "      <td>False</td>\n",
       "    </tr>\n",
       "    <tr>\n",
       "      <th>3</th>\n",
       "      <td>False</td>\n",
       "      <td>False</td>\n",
       "      <td>False</td>\n",
       "      <td>False</td>\n",
       "      <td>False</td>\n",
       "      <td>False</td>\n",
       "      <td>False</td>\n",
       "      <td>False</td>\n",
       "    </tr>\n",
       "    <tr>\n",
       "      <th>4</th>\n",
       "      <td>False</td>\n",
       "      <td>False</td>\n",
       "      <td>False</td>\n",
       "      <td>False</td>\n",
       "      <td>False</td>\n",
       "      <td>False</td>\n",
       "      <td>False</td>\n",
       "      <td>False</td>\n",
       "    </tr>\n",
       "    <tr>\n",
       "      <th>...</th>\n",
       "      <td>...</td>\n",
       "      <td>...</td>\n",
       "      <td>...</td>\n",
       "      <td>...</td>\n",
       "      <td>...</td>\n",
       "      <td>...</td>\n",
       "      <td>...</td>\n",
       "      <td>...</td>\n",
       "    </tr>\n",
       "    <tr>\n",
       "      <th>30753</th>\n",
       "      <td>False</td>\n",
       "      <td>False</td>\n",
       "      <td>False</td>\n",
       "      <td>False</td>\n",
       "      <td>False</td>\n",
       "      <td>False</td>\n",
       "      <td>False</td>\n",
       "      <td>False</td>\n",
       "    </tr>\n",
       "    <tr>\n",
       "      <th>30754</th>\n",
       "      <td>False</td>\n",
       "      <td>False</td>\n",
       "      <td>False</td>\n",
       "      <td>False</td>\n",
       "      <td>False</td>\n",
       "      <td>False</td>\n",
       "      <td>False</td>\n",
       "      <td>False</td>\n",
       "    </tr>\n",
       "    <tr>\n",
       "      <th>30755</th>\n",
       "      <td>False</td>\n",
       "      <td>False</td>\n",
       "      <td>False</td>\n",
       "      <td>False</td>\n",
       "      <td>False</td>\n",
       "      <td>False</td>\n",
       "      <td>False</td>\n",
       "      <td>False</td>\n",
       "    </tr>\n",
       "    <tr>\n",
       "      <th>30756</th>\n",
       "      <td>False</td>\n",
       "      <td>False</td>\n",
       "      <td>False</td>\n",
       "      <td>False</td>\n",
       "      <td>False</td>\n",
       "      <td>False</td>\n",
       "      <td>False</td>\n",
       "      <td>False</td>\n",
       "    </tr>\n",
       "    <tr>\n",
       "      <th>30757</th>\n",
       "      <td>False</td>\n",
       "      <td>False</td>\n",
       "      <td>False</td>\n",
       "      <td>False</td>\n",
       "      <td>False</td>\n",
       "      <td>False</td>\n",
       "      <td>False</td>\n",
       "      <td>False</td>\n",
       "    </tr>\n",
       "  </tbody>\n",
       "</table>\n",
       "<p>30758 rows × 8 columns</p>\n",
       "</div>"
      ],
      "text/plain": [
       "       Unnamed: 0  BrandName  Deatils  Sizes    MRP  SellPrice  Discount  \\\n",
       "0           False      False    False  False  False      False     False   \n",
       "1           False      False    False  False  False      False     False   \n",
       "2           False      False    False  False  False      False     False   \n",
       "3           False      False    False  False  False      False     False   \n",
       "4           False      False    False  False  False      False     False   \n",
       "...           ...        ...      ...    ...    ...        ...       ...   \n",
       "30753       False      False    False  False  False      False     False   \n",
       "30754       False      False    False  False  False      False     False   \n",
       "30755       False      False    False  False  False      False     False   \n",
       "30756       False      False    False  False  False      False     False   \n",
       "30757       False      False    False  False  False      False     False   \n",
       "\n",
       "       Category  \n",
       "0         False  \n",
       "1         False  \n",
       "2         False  \n",
       "3         False  \n",
       "4         False  \n",
       "...         ...  \n",
       "30753     False  \n",
       "30754     False  \n",
       "30755     False  \n",
       "30756     False  \n",
       "30757     False  \n",
       "\n",
       "[30758 rows x 8 columns]"
      ]
     },
     "execution_count": 9,
     "metadata": {},
     "output_type": "execute_result"
    }
   ],
   "source": [
    "data.isna()"
   ]
  },
  {
   "cell_type": "code",
   "execution_count": 10,
   "id": "bc1f31eb",
   "metadata": {
    "execution": {
     "iopub.execute_input": "2022-07-31T19:13:55.884625Z",
     "iopub.status.busy": "2022-07-31T19:13:55.883916Z",
     "iopub.status.idle": "2022-07-31T19:13:55.969248Z",
     "shell.execute_reply": "2022-07-31T19:13:55.967831Z"
    },
    "papermill": {
     "duration": 0.096086,
     "end_time": "2022-07-31T19:13:55.971687",
     "exception": false,
     "start_time": "2022-07-31T19:13:55.875601",
     "status": "completed"
    },
    "tags": []
   },
   "outputs": [
    {
     "data": {
      "text/plain": [
       "Unnamed: 0  BrandName    Deatils                                                  Sizes                                                       MRP       SellPrice  Discount  Category                \n",
       "22          Nan          Nan                                                      Nan                                                         Nan       Nan        Nan       Westernwear-Women           399\n",
       "                                                                                                                                                                             Indianwear-Women            399\n",
       "                                                                                                                                                                             Lingerie&Nightwear-Women    129\n",
       "                                                                                                                                                                             Footwear-Women               99\n",
       "                                                                                                                                                                             Jewellery-Women              69\n",
       "                                                                                                                                                                                                        ... \n",
       "8           high star    womens basic slim fit 5 pocket jeans - black             Size:30,32,34,36                                            Nan       2099       Nan       Westernwear-Women             1\n",
       "            haute curry  womens regular fit printed tops - rust                   Size:Large,Medium,Small,X-Large,X-Small,XX-Large            Rs\\n799   399        50% off   Indianwear-Women              1\n",
       "                         womens regular fit printed tops - red                    Size:Large,Medium,Small,X-Large,X-Small,XX-Large,XXX-Large  Rs\\n799   399        50% off   Indianwear-Women              1\n",
       "                         womens regular fit printed dress - yellow                Size:Large,Medium,Small,X-Large,X-Small,XX-Large            Rs\\n1299  649        50% off   Indianwear-Women              1\n",
       "25          ziyaa        printed rayon round neck womens straight kurta - yellow  Size:Large,Medium,Small,X-Large,XX-Large,XXX-Large          Rs\\n1752  700        60% off   Indianwear-Women              1\n",
       "Length: 29427, dtype: int64"
      ]
     },
     "execution_count": 10,
     "metadata": {},
     "output_type": "execute_result"
    }
   ],
   "source": [
    "data.value_counts()"
   ]
  },
  {
   "cell_type": "code",
   "execution_count": 11,
   "id": "65a3fef2",
   "metadata": {
    "execution": {
     "iopub.execute_input": "2022-07-31T19:13:55.988748Z",
     "iopub.status.busy": "2022-07-31T19:13:55.988355Z",
     "iopub.status.idle": "2022-07-31T19:13:56.019105Z",
     "shell.execute_reply": "2022-07-31T19:13:56.017907Z"
    },
    "papermill": {
     "duration": 0.042277,
     "end_time": "2022-07-31T19:13:56.021674",
     "exception": false,
     "start_time": "2022-07-31T19:13:55.979397",
     "status": "completed"
    },
    "tags": []
   },
   "outputs": [
    {
     "data": {
      "text/plain": [
       "Unnamed: 0       26\n",
       "BrandName       275\n",
       "Deatils       23877\n",
       "Sizes          1172\n",
       "MRP            1097\n",
       "SellPrice      2046\n",
       "Discount         66\n",
       "Category          7\n",
       "dtype: int64"
      ]
     },
     "execution_count": 11,
     "metadata": {},
     "output_type": "execute_result"
    }
   ],
   "source": [
    "data.nunique()"
   ]
  },
  {
   "cell_type": "code",
   "execution_count": 12,
   "id": "571cca09",
   "metadata": {
    "execution": {
     "iopub.execute_input": "2022-07-31T19:13:56.038076Z",
     "iopub.status.busy": "2022-07-31T19:13:56.037693Z",
     "iopub.status.idle": "2022-07-31T19:13:56.057665Z",
     "shell.execute_reply": "2022-07-31T19:13:56.056684Z"
    },
    "papermill": {
     "duration": 0.030751,
     "end_time": "2022-07-31T19:13:56.059652",
     "exception": false,
     "start_time": "2022-07-31T19:13:56.028901",
     "status": "completed"
    },
    "tags": []
   },
   "outputs": [
    {
     "data": {
      "text/plain": [
       "0        7\n",
       "1        7\n",
       "2        7\n",
       "3        7\n",
       "4        7\n",
       "        ..\n",
       "30753    3\n",
       "30754    3\n",
       "30755    7\n",
       "30756    3\n",
       "30757    3\n",
       "Name: MRP, Length: 30758, dtype: int64"
      ]
     },
     "execution_count": 12,
     "metadata": {},
     "output_type": "execute_result"
    }
   ],
   "source": [
    "data['MRP'].apply(lambda x:len(x))\n"
   ]
  },
  {
   "cell_type": "code",
   "execution_count": 13,
   "id": "01c2c0a1",
   "metadata": {
    "execution": {
     "iopub.execute_input": "2022-07-31T19:13:56.077712Z",
     "iopub.status.busy": "2022-07-31T19:13:56.076072Z",
     "iopub.status.idle": "2022-07-31T19:13:56.094040Z",
     "shell.execute_reply": "2022-07-31T19:13:56.092955Z"
    },
    "papermill": {
     "duration": 0.028893,
     "end_time": "2022-07-31T19:13:56.096186",
     "exception": false,
     "start_time": "2022-07-31T19:13:56.067293",
     "status": "completed"
    },
    "tags": []
   },
   "outputs": [
    {
     "data": {
      "text/plain": [
       "0        1699\n",
       "1        3499\n",
       "2        1199\n",
       "3        2299\n",
       "4        1699\n",
       "         ... \n",
       "30753        \n",
       "30754        \n",
       "30755    1839\n",
       "30756        \n",
       "30757        \n",
       "Name: MRPNew, Length: 30758, dtype: object"
      ]
     },
     "execution_count": 13,
     "metadata": {},
     "output_type": "execute_result"
    }
   ],
   "source": [
    "data['MRPNew']=data['MRP'].apply(lambda x:x[3:7])# seprating numeric value from the Rs\n",
    "data['MRPNew']"
   ]
  },
  {
   "cell_type": "code",
   "execution_count": 14,
   "id": "aa9dd985",
   "metadata": {
    "execution": {
     "iopub.execute_input": "2022-07-31T19:13:56.112953Z",
     "iopub.status.busy": "2022-07-31T19:13:56.112479Z",
     "iopub.status.idle": "2022-07-31T19:13:56.131544Z",
     "shell.execute_reply": "2022-07-31T19:13:56.130691Z"
    },
    "papermill": {
     "duration": 0.030164,
     "end_time": "2022-07-31T19:13:56.133880",
     "exception": false,
     "start_time": "2022-07-31T19:13:56.103716",
     "status": "completed"
    },
    "tags": []
   },
   "outputs": [],
   "source": [
    "data['MRPNew'] = pd.to_numeric(data['MRPNew'])"
   ]
  },
  {
   "cell_type": "code",
   "execution_count": 15,
   "id": "2f139056",
   "metadata": {
    "execution": {
     "iopub.execute_input": "2022-07-31T19:13:56.150406Z",
     "iopub.status.busy": "2022-07-31T19:13:56.150035Z",
     "iopub.status.idle": "2022-07-31T19:13:56.170759Z",
     "shell.execute_reply": "2022-07-31T19:13:56.169786Z"
    },
    "papermill": {
     "duration": 0.03147,
     "end_time": "2022-07-31T19:13:56.172811",
     "exception": false,
     "start_time": "2022-07-31T19:13:56.141341",
     "status": "completed"
    },
    "tags": []
   },
   "outputs": [
    {
     "data": {
      "text/html": [
       "<div>\n",
       "<style scoped>\n",
       "    .dataframe tbody tr th:only-of-type {\n",
       "        vertical-align: middle;\n",
       "    }\n",
       "\n",
       "    .dataframe tbody tr th {\n",
       "        vertical-align: top;\n",
       "    }\n",
       "\n",
       "    .dataframe thead th {\n",
       "        text-align: right;\n",
       "    }\n",
       "</style>\n",
       "<table border=\"1\" class=\"dataframe\">\n",
       "  <thead>\n",
       "    <tr style=\"text-align: right;\">\n",
       "      <th></th>\n",
       "      <th>mean</th>\n",
       "      <th>max</th>\n",
       "      <th>min</th>\n",
       "    </tr>\n",
       "    <tr>\n",
       "      <th>Category</th>\n",
       "      <th></th>\n",
       "      <th></th>\n",
       "      <th></th>\n",
       "    </tr>\n",
       "  </thead>\n",
       "  <tbody>\n",
       "    <tr>\n",
       "      <th>Footwear-Women</th>\n",
       "      <td>2740.432845</td>\n",
       "      <td>9999.0</td>\n",
       "      <td>492.0</td>\n",
       "    </tr>\n",
       "    <tr>\n",
       "      <th>Fragrance-Women</th>\n",
       "      <td>3786.695187</td>\n",
       "      <td>8000.0</td>\n",
       "      <td>420.0</td>\n",
       "    </tr>\n",
       "    <tr>\n",
       "      <th>Indianwear-Women</th>\n",
       "      <td>2818.304269</td>\n",
       "      <td>9999.0</td>\n",
       "      <td>399.0</td>\n",
       "    </tr>\n",
       "    <tr>\n",
       "      <th>Jewellery-Women</th>\n",
       "      <td>1965.326888</td>\n",
       "      <td>9995.0</td>\n",
       "      <td>198.0</td>\n",
       "    </tr>\n",
       "    <tr>\n",
       "      <th>Lingerie&amp;Nightwear-Women</th>\n",
       "      <td>1261.089345</td>\n",
       "      <td>5290.0</td>\n",
       "      <td>171.0</td>\n",
       "    </tr>\n",
       "    <tr>\n",
       "      <th>Watches-Women</th>\n",
       "      <td>4787.413934</td>\n",
       "      <td>9995.0</td>\n",
       "      <td>1009.0</td>\n",
       "    </tr>\n",
       "    <tr>\n",
       "      <th>Westernwear-Women</th>\n",
       "      <td>2007.294757</td>\n",
       "      <td>8600.0</td>\n",
       "      <td>149.0</td>\n",
       "    </tr>\n",
       "  </tbody>\n",
       "</table>\n",
       "</div>"
      ],
      "text/plain": [
       "                                 mean     max     min\n",
       "Category                                             \n",
       "Footwear-Women            2740.432845  9999.0   492.0\n",
       "Fragrance-Women           3786.695187  8000.0   420.0\n",
       "Indianwear-Women          2818.304269  9999.0   399.0\n",
       "Jewellery-Women           1965.326888  9995.0   198.0\n",
       "Lingerie&Nightwear-Women  1261.089345  5290.0   171.0\n",
       "Watches-Women             4787.413934  9995.0  1009.0\n",
       "Westernwear-Women         2007.294757  8600.0   149.0"
      ]
     },
     "execution_count": 15,
     "metadata": {},
     "output_type": "execute_result"
    }
   ],
   "source": [
    "data.groupby('Category').MRPNew.agg(['mean','max','min'])\n"
   ]
  },
  {
   "cell_type": "code",
   "execution_count": 16,
   "id": "3c14980f",
   "metadata": {
    "execution": {
     "iopub.execute_input": "2022-07-31T19:13:56.190021Z",
     "iopub.status.busy": "2022-07-31T19:13:56.189357Z",
     "iopub.status.idle": "2022-07-31T19:13:56.206342Z",
     "shell.execute_reply": "2022-07-31T19:13:56.205620Z"
    },
    "papermill": {
     "duration": 0.027849,
     "end_time": "2022-07-31T19:13:56.208580",
     "exception": false,
     "start_time": "2022-07-31T19:13:56.180731",
     "status": "completed"
    },
    "tags": []
   },
   "outputs": [
    {
     "data": {
      "text/plain": [
       "0        7\n",
       "1        7\n",
       "2        7\n",
       "3        7\n",
       "4        7\n",
       "        ..\n",
       "30753    3\n",
       "30754    3\n",
       "30755    7\n",
       "30756    3\n",
       "30757    3\n",
       "Name: Discount, Length: 30758, dtype: int64"
      ]
     },
     "execution_count": 16,
     "metadata": {},
     "output_type": "execute_result"
    }
   ],
   "source": [
    "data['Discount'].apply(lambda x:len(x))"
   ]
  },
  {
   "cell_type": "code",
   "execution_count": 17,
   "id": "14990463",
   "metadata": {
    "execution": {
     "iopub.execute_input": "2022-07-31T19:13:56.226018Z",
     "iopub.status.busy": "2022-07-31T19:13:56.225650Z",
     "iopub.status.idle": "2022-07-31T19:13:56.242653Z",
     "shell.execute_reply": "2022-07-31T19:13:56.241515Z"
    },
    "papermill": {
     "duration": 0.028774,
     "end_time": "2022-07-31T19:13:56.244874",
     "exception": false,
     "start_time": "2022-07-31T19:13:56.216100",
     "status": "completed"
    },
    "tags": []
   },
   "outputs": [
    {
     "data": {
      "text/plain": [
       "0"
      ]
     },
     "execution_count": 17,
     "metadata": {},
     "output_type": "execute_result"
    }
   ],
   "source": [
    "data['Disnew']=data['Discount'].apply(lambda x:x[0:2])#seprating discount from percentage for further calculation\n",
    "data['Disnew'].isna().sum()"
   ]
  },
  {
   "cell_type": "code",
   "execution_count": 18,
   "id": "86e212b6",
   "metadata": {
    "execution": {
     "iopub.execute_input": "2022-07-31T19:13:56.262704Z",
     "iopub.status.busy": "2022-07-31T19:13:56.262316Z",
     "iopub.status.idle": "2022-07-31T19:13:56.279424Z",
     "shell.execute_reply": "2022-07-31T19:13:56.278324Z"
    },
    "papermill": {
     "duration": 0.028917,
     "end_time": "2022-07-31T19:13:56.282038",
     "exception": false,
     "start_time": "2022-07-31T19:13:56.253121",
     "status": "completed"
    },
    "tags": []
   },
   "outputs": [
    {
     "data": {
      "text/plain": [
       "0        50\n",
       "1        30\n",
       "2        50\n",
       "3        40\n",
       "4        50\n",
       "         ..\n",
       "30753    Na\n",
       "30754    Na\n",
       "30755    65\n",
       "30756    Na\n",
       "30757    Na\n",
       "Name: Disnew, Length: 30758, dtype: object"
      ]
     },
     "execution_count": 18,
     "metadata": {},
     "output_type": "execute_result"
    }
   ],
   "source": [
    "\n",
    "data['Disnew'].str.strip()"
   ]
  },
  {
   "cell_type": "code",
   "execution_count": 19,
   "id": "3986addc",
   "metadata": {
    "execution": {
     "iopub.execute_input": "2022-07-31T19:13:56.300112Z",
     "iopub.status.busy": "2022-07-31T19:13:56.299344Z",
     "iopub.status.idle": "2022-07-31T19:13:56.310346Z",
     "shell.execute_reply": "2022-07-31T19:13:56.309506Z"
    },
    "papermill": {
     "duration": 0.022644,
     "end_time": "2022-07-31T19:13:56.312657",
     "exception": false,
     "start_time": "2022-07-31T19:13:56.290013",
     "status": "completed"
    },
    "tags": []
   },
   "outputs": [],
   "source": [
    "data['Disnew'] =data['Disnew'].replace(['Na','0'])"
   ]
  },
  {
   "cell_type": "code",
   "execution_count": 20,
   "id": "a7dbe901",
   "metadata": {
    "execution": {
     "iopub.execute_input": "2022-07-31T19:13:56.330565Z",
     "iopub.status.busy": "2022-07-31T19:13:56.329844Z",
     "iopub.status.idle": "2022-07-31T19:13:56.337694Z",
     "shell.execute_reply": "2022-07-31T19:13:56.336882Z"
    },
    "papermill": {
     "duration": 0.01909,
     "end_time": "2022-07-31T19:13:56.339703",
     "exception": false,
     "start_time": "2022-07-31T19:13:56.320613",
     "status": "completed"
    },
    "tags": []
   },
   "outputs": [
    {
     "data": {
      "text/plain": [
       "0        50\n",
       "1        30\n",
       "2        50\n",
       "3        40\n",
       "4        50\n",
       "         ..\n",
       "30753    15\n",
       "30754    15\n",
       "30755    65\n",
       "30756    65\n",
       "30757    65\n",
       "Name: Disnew, Length: 30758, dtype: object"
      ]
     },
     "execution_count": 20,
     "metadata": {},
     "output_type": "execute_result"
    }
   ],
   "source": [
    "data['Disnew'] "
   ]
  },
  {
   "cell_type": "code",
   "execution_count": 21,
   "id": "94f1149e",
   "metadata": {
    "execution": {
     "iopub.execute_input": "2022-07-31T19:13:56.356859Z",
     "iopub.status.busy": "2022-07-31T19:13:56.356504Z",
     "iopub.status.idle": "2022-07-31T19:13:56.384546Z",
     "shell.execute_reply": "2022-07-31T19:13:56.383741Z"
    },
    "papermill": {
     "duration": 0.039478,
     "end_time": "2022-07-31T19:13:56.386841",
     "exception": false,
     "start_time": "2022-07-31T19:13:56.347363",
     "status": "completed"
    },
    "tags": []
   },
   "outputs": [],
   "source": [
    "data['Disnew'] =data['Disnew'].replace(['5%','5'])\n",
    "data['Disnew'] =data['Disnew'].replace(['4%','4'])\n",
    "data['Disnew'] =data['Disnew'].replace(['0%','0'])\n",
    "data['Disnew'] = pd.to_numeric(data['Disnew'])"
   ]
  },
  {
   "cell_type": "code",
   "execution_count": 22,
   "id": "02c19316",
   "metadata": {
    "execution": {
     "iopub.execute_input": "2022-07-31T19:13:56.404452Z",
     "iopub.status.busy": "2022-07-31T19:13:56.404056Z",
     "iopub.status.idle": "2022-07-31T19:13:56.421534Z",
     "shell.execute_reply": "2022-07-31T19:13:56.420482Z"
    },
    "papermill": {
     "duration": 0.028892,
     "end_time": "2022-07-31T19:13:56.423653",
     "exception": false,
     "start_time": "2022-07-31T19:13:56.394761",
     "status": "completed"
    },
    "tags": []
   },
   "outputs": [
    {
     "data": {
      "text/html": [
       "<div>\n",
       "<style scoped>\n",
       "    .dataframe tbody tr th:only-of-type {\n",
       "        vertical-align: middle;\n",
       "    }\n",
       "\n",
       "    .dataframe tbody tr th {\n",
       "        vertical-align: top;\n",
       "    }\n",
       "\n",
       "    .dataframe thead th {\n",
       "        text-align: right;\n",
       "    }\n",
       "</style>\n",
       "<table border=\"1\" class=\"dataframe\">\n",
       "  <thead>\n",
       "    <tr style=\"text-align: right;\">\n",
       "      <th></th>\n",
       "      <th>mean</th>\n",
       "      <th>max</th>\n",
       "      <th>min</th>\n",
       "    </tr>\n",
       "    <tr>\n",
       "      <th>Category</th>\n",
       "      <th></th>\n",
       "      <th></th>\n",
       "      <th></th>\n",
       "    </tr>\n",
       "  </thead>\n",
       "  <tbody>\n",
       "    <tr>\n",
       "      <th>Footwear-Women</th>\n",
       "      <td>39.100622</td>\n",
       "      <td>78</td>\n",
       "      <td>10</td>\n",
       "    </tr>\n",
       "    <tr>\n",
       "      <th>Fragrance-Women</th>\n",
       "      <td>20.587045</td>\n",
       "      <td>50</td>\n",
       "      <td>10</td>\n",
       "    </tr>\n",
       "    <tr>\n",
       "      <th>Indianwear-Women</th>\n",
       "      <td>50.580297</td>\n",
       "      <td>85</td>\n",
       "      <td>10</td>\n",
       "    </tr>\n",
       "    <tr>\n",
       "      <th>Jewellery-Women</th>\n",
       "      <td>48.728540</td>\n",
       "      <td>70</td>\n",
       "      <td>10</td>\n",
       "    </tr>\n",
       "    <tr>\n",
       "      <th>Lingerie&amp;Nightwear-Women</th>\n",
       "      <td>41.244484</td>\n",
       "      <td>80</td>\n",
       "      <td>10</td>\n",
       "    </tr>\n",
       "    <tr>\n",
       "      <th>Watches-Women</th>\n",
       "      <td>34.502230</td>\n",
       "      <td>70</td>\n",
       "      <td>10</td>\n",
       "    </tr>\n",
       "    <tr>\n",
       "      <th>Westernwear-Women</th>\n",
       "      <td>43.066705</td>\n",
       "      <td>80</td>\n",
       "      <td>10</td>\n",
       "    </tr>\n",
       "  </tbody>\n",
       "</table>\n",
       "</div>"
      ],
      "text/plain": [
       "                               mean  max  min\n",
       "Category                                     \n",
       "Footwear-Women            39.100622   78   10\n",
       "Fragrance-Women           20.587045   50   10\n",
       "Indianwear-Women          50.580297   85   10\n",
       "Jewellery-Women           48.728540   70   10\n",
       "Lingerie&Nightwear-Women  41.244484   80   10\n",
       "Watches-Women             34.502230   70   10\n",
       "Westernwear-Women         43.066705   80   10"
      ]
     },
     "execution_count": 22,
     "metadata": {},
     "output_type": "execute_result"
    }
   ],
   "source": [
    "data.groupby('Category').Disnew.agg(['mean','max','min'])"
   ]
  },
  {
   "cell_type": "code",
   "execution_count": 23,
   "id": "06419820",
   "metadata": {
    "execution": {
     "iopub.execute_input": "2022-07-31T19:13:56.442177Z",
     "iopub.status.busy": "2022-07-31T19:13:56.441014Z",
     "iopub.status.idle": "2022-07-31T19:13:56.459294Z",
     "shell.execute_reply": "2022-07-31T19:13:56.458426Z"
    },
    "papermill": {
     "duration": 0.029846,
     "end_time": "2022-07-31T19:13:56.461634",
     "exception": false,
     "start_time": "2022-07-31T19:13:56.431788",
     "status": "completed"
    },
    "tags": []
   },
   "outputs": [
    {
     "data": {
      "text/html": [
       "<div>\n",
       "<style scoped>\n",
       "    .dataframe tbody tr th:only-of-type {\n",
       "        vertical-align: middle;\n",
       "    }\n",
       "\n",
       "    .dataframe tbody tr th {\n",
       "        vertical-align: top;\n",
       "    }\n",
       "\n",
       "    .dataframe thead th {\n",
       "        text-align: right;\n",
       "    }\n",
       "</style>\n",
       "<table border=\"1\" class=\"dataframe\">\n",
       "  <thead>\n",
       "    <tr style=\"text-align: right;\">\n",
       "      <th></th>\n",
       "      <th>mean</th>\n",
       "      <th>max</th>\n",
       "      <th>min</th>\n",
       "    </tr>\n",
       "    <tr>\n",
       "      <th>BrandName</th>\n",
       "      <th></th>\n",
       "      <th></th>\n",
       "      <th></th>\n",
       "    </tr>\n",
       "  </thead>\n",
       "  <tbody>\n",
       "    <tr>\n",
       "      <th>109f</th>\n",
       "      <td>53.526316</td>\n",
       "      <td>80</td>\n",
       "      <td>10</td>\n",
       "    </tr>\n",
       "    <tr>\n",
       "      <th>18.21 man made</th>\n",
       "      <td>20.000000</td>\n",
       "      <td>20</td>\n",
       "      <td>20</td>\n",
       "    </tr>\n",
       "    <tr>\n",
       "      <th>4711</th>\n",
       "      <td>20.000000</td>\n",
       "      <td>20</td>\n",
       "      <td>20</td>\n",
       "    </tr>\n",
       "    <tr>\n",
       "      <th>Nan</th>\n",
       "      <td>44.497041</td>\n",
       "      <td>80</td>\n",
       "      <td>10</td>\n",
       "    </tr>\n",
       "    <tr>\n",
       "      <th>aarke</th>\n",
       "      <td>50.177778</td>\n",
       "      <td>70</td>\n",
       "      <td>20</td>\n",
       "    </tr>\n",
       "    <tr>\n",
       "      <th>...</th>\n",
       "      <td>...</td>\n",
       "      <td>...</td>\n",
       "      <td>...</td>\n",
       "    </tr>\n",
       "    <tr>\n",
       "      <th>zingg</th>\n",
       "      <td>36.000000</td>\n",
       "      <td>70</td>\n",
       "      <td>10</td>\n",
       "    </tr>\n",
       "    <tr>\n",
       "      <th>zink london</th>\n",
       "      <td>50.749455</td>\n",
       "      <td>80</td>\n",
       "      <td>20</td>\n",
       "    </tr>\n",
       "    <tr>\n",
       "      <th>zink z</th>\n",
       "      <td>42.714286</td>\n",
       "      <td>65</td>\n",
       "      <td>20</td>\n",
       "    </tr>\n",
       "    <tr>\n",
       "      <th>ziyaa</th>\n",
       "      <td>59.072658</td>\n",
       "      <td>65</td>\n",
       "      <td>30</td>\n",
       "    </tr>\n",
       "    <tr>\n",
       "      <th>zoop</th>\n",
       "      <td>10.000000</td>\n",
       "      <td>10</td>\n",
       "      <td>10</td>\n",
       "    </tr>\n",
       "  </tbody>\n",
       "</table>\n",
       "<p>275 rows × 3 columns</p>\n",
       "</div>"
      ],
      "text/plain": [
       "                     mean  max  min\n",
       "BrandName                          \n",
       "109f            53.526316   80   10\n",
       "18.21 man made  20.000000   20   20\n",
       "4711            20.000000   20   20\n",
       "Nan             44.497041   80   10\n",
       "aarke           50.177778   70   20\n",
       "...                   ...  ...  ...\n",
       "zingg           36.000000   70   10\n",
       "zink london     50.749455   80   20\n",
       "zink z          42.714286   65   20\n",
       "ziyaa           59.072658   65   30\n",
       "zoop            10.000000   10   10\n",
       "\n",
       "[275 rows x 3 columns]"
      ]
     },
     "execution_count": 23,
     "metadata": {},
     "output_type": "execute_result"
    }
   ],
   "source": [
    "a=data.groupby('BrandName').Disnew.agg(['mean','max','min'])\n",
    "a"
   ]
  },
  {
   "cell_type": "code",
   "execution_count": 24,
   "id": "e01ac08e",
   "metadata": {
    "execution": {
     "iopub.execute_input": "2022-07-31T19:13:56.480081Z",
     "iopub.status.busy": "2022-07-31T19:13:56.479341Z",
     "iopub.status.idle": "2022-07-31T19:13:56.495726Z",
     "shell.execute_reply": "2022-07-31T19:13:56.494726Z"
    },
    "papermill": {
     "duration": 0.028163,
     "end_time": "2022-07-31T19:13:56.497876",
     "exception": false,
     "start_time": "2022-07-31T19:13:56.469713",
     "status": "completed"
    },
    "tags": []
   },
   "outputs": [
    {
     "data": {
      "text/html": [
       "<div>\n",
       "<style scoped>\n",
       "    .dataframe tbody tr th:only-of-type {\n",
       "        vertical-align: middle;\n",
       "    }\n",
       "\n",
       "    .dataframe tbody tr th {\n",
       "        vertical-align: top;\n",
       "    }\n",
       "\n",
       "    .dataframe thead th {\n",
       "        text-align: right;\n",
       "    }\n",
       "</style>\n",
       "<table border=\"1\" class=\"dataframe\">\n",
       "  <thead>\n",
       "    <tr style=\"text-align: right;\">\n",
       "      <th></th>\n",
       "      <th>mean</th>\n",
       "      <th>max</th>\n",
       "      <th>min</th>\n",
       "    </tr>\n",
       "    <tr>\n",
       "      <th>BrandName</th>\n",
       "      <th></th>\n",
       "      <th></th>\n",
       "      <th></th>\n",
       "    </tr>\n",
       "  </thead>\n",
       "  <tbody>\n",
       "    <tr>\n",
       "      <th>gas</th>\n",
       "      <td>75.000000</td>\n",
       "      <td>75</td>\n",
       "      <td>75</td>\n",
       "    </tr>\n",
       "    <tr>\n",
       "      <th>myshka</th>\n",
       "      <td>72.060519</td>\n",
       "      <td>85</td>\n",
       "      <td>10</td>\n",
       "    </tr>\n",
       "    <tr>\n",
       "      <th>varkala silk sarees</th>\n",
       "      <td>70.689655</td>\n",
       "      <td>75</td>\n",
       "      <td>25</td>\n",
       "    </tr>\n",
       "    <tr>\n",
       "      <th>back to earth</th>\n",
       "      <td>70.000000</td>\n",
       "      <td>70</td>\n",
       "      <td>70</td>\n",
       "    </tr>\n",
       "    <tr>\n",
       "      <th>unknown by ayesha</th>\n",
       "      <td>70.000000</td>\n",
       "      <td>70</td>\n",
       "      <td>70</td>\n",
       "    </tr>\n",
       "    <tr>\n",
       "      <th>nayomi</th>\n",
       "      <td>65.800000</td>\n",
       "      <td>77</td>\n",
       "      <td>50</td>\n",
       "    </tr>\n",
       "    <tr>\n",
       "      <th>jewelz</th>\n",
       "      <td>65.000000</td>\n",
       "      <td>65</td>\n",
       "      <td>65</td>\n",
       "    </tr>\n",
       "    <tr>\n",
       "      <th>disha patani for glam lifestyle</th>\n",
       "      <td>60.000000</td>\n",
       "      <td>60</td>\n",
       "      <td>60</td>\n",
       "    </tr>\n",
       "    <tr>\n",
       "      <th>fjord</th>\n",
       "      <td>60.000000</td>\n",
       "      <td>60</td>\n",
       "      <td>60</td>\n",
       "    </tr>\n",
       "    <tr>\n",
       "      <th>varanga</th>\n",
       "      <td>59.455611</td>\n",
       "      <td>75</td>\n",
       "      <td>30</td>\n",
       "    </tr>\n",
       "  </tbody>\n",
       "</table>\n",
       "</div>"
      ],
      "text/plain": [
       "                                      mean  max  min\n",
       "BrandName                                           \n",
       "gas                              75.000000   75   75\n",
       "myshka                           72.060519   85   10\n",
       "varkala silk sarees              70.689655   75   25\n",
       "back to earth                    70.000000   70   70\n",
       "unknown by ayesha                70.000000   70   70\n",
       "nayomi                           65.800000   77   50\n",
       "jewelz                           65.000000   65   65\n",
       "disha patani for glam lifestyle  60.000000   60   60\n",
       "fjord                            60.000000   60   60\n",
       "varanga                          59.455611   75   30"
      ]
     },
     "execution_count": 24,
     "metadata": {},
     "output_type": "execute_result"
    }
   ],
   "source": [
    "a.nlargest(10,'mean')#top 10 brands with highest average dicount"
   ]
  },
  {
   "cell_type": "code",
   "execution_count": 25,
   "id": "11268a68",
   "metadata": {
    "execution": {
     "iopub.execute_input": "2022-07-31T19:13:56.517225Z",
     "iopub.status.busy": "2022-07-31T19:13:56.516522Z",
     "iopub.status.idle": "2022-07-31T19:13:56.529863Z",
     "shell.execute_reply": "2022-07-31T19:13:56.529092Z"
    },
    "papermill": {
     "duration": 0.025968,
     "end_time": "2022-07-31T19:13:56.532138",
     "exception": false,
     "start_time": "2022-07-31T19:13:56.506170",
     "status": "completed"
    },
    "tags": []
   },
   "outputs": [],
   "source": [
    "b=data.groupby(['Category','BrandName']).Disnew.agg(['mean','max','min'])"
   ]
  },
  {
   "cell_type": "code",
   "execution_count": 26,
   "id": "b9cb63da",
   "metadata": {
    "execution": {
     "iopub.execute_input": "2022-07-31T19:13:56.550398Z",
     "iopub.status.busy": "2022-07-31T19:13:56.550028Z",
     "iopub.status.idle": "2022-07-31T19:13:56.565932Z",
     "shell.execute_reply": "2022-07-31T19:13:56.564748Z"
    },
    "papermill": {
     "duration": 0.027748,
     "end_time": "2022-07-31T19:13:56.568043",
     "exception": false,
     "start_time": "2022-07-31T19:13:56.540295",
     "status": "completed"
    },
    "tags": []
   },
   "outputs": [
    {
     "data": {
      "text/html": [
       "<div>\n",
       "<style scoped>\n",
       "    .dataframe tbody tr th:only-of-type {\n",
       "        vertical-align: middle;\n",
       "    }\n",
       "\n",
       "    .dataframe tbody tr th {\n",
       "        vertical-align: top;\n",
       "    }\n",
       "\n",
       "    .dataframe thead th {\n",
       "        text-align: right;\n",
       "    }\n",
       "</style>\n",
       "<table border=\"1\" class=\"dataframe\">\n",
       "  <thead>\n",
       "    <tr style=\"text-align: right;\">\n",
       "      <th></th>\n",
       "      <th></th>\n",
       "      <th>mean</th>\n",
       "      <th>max</th>\n",
       "      <th>min</th>\n",
       "    </tr>\n",
       "    <tr>\n",
       "      <th>Category</th>\n",
       "      <th>BrandName</th>\n",
       "      <th></th>\n",
       "      <th></th>\n",
       "      <th></th>\n",
       "    </tr>\n",
       "  </thead>\n",
       "  <tbody>\n",
       "    <tr>\n",
       "      <th rowspan=\"2\" valign=\"top\">Indianwear-Women</th>\n",
       "      <th>gas</th>\n",
       "      <td>75.000000</td>\n",
       "      <td>75</td>\n",
       "      <td>75</td>\n",
       "    </tr>\n",
       "    <tr>\n",
       "      <th>marie claire</th>\n",
       "      <td>75.000000</td>\n",
       "      <td>75</td>\n",
       "      <td>75</td>\n",
       "    </tr>\n",
       "    <tr>\n",
       "      <th>Lingerie&amp;Nightwear-Women</th>\n",
       "      <th>myshka</th>\n",
       "      <td>75.000000</td>\n",
       "      <td>80</td>\n",
       "      <td>70</td>\n",
       "    </tr>\n",
       "    <tr>\n",
       "      <th rowspan=\"3\" valign=\"top\">Indianwear-Women</th>\n",
       "      <th>myshka</th>\n",
       "      <td>72.059701</td>\n",
       "      <td>85</td>\n",
       "      <td>10</td>\n",
       "    </tr>\n",
       "    <tr>\n",
       "      <th>varkala silk sarees</th>\n",
       "      <td>70.689655</td>\n",
       "      <td>75</td>\n",
       "      <td>25</td>\n",
       "    </tr>\n",
       "    <tr>\n",
       "      <th>back to earth</th>\n",
       "      <td>70.000000</td>\n",
       "      <td>70</td>\n",
       "      <td>70</td>\n",
       "    </tr>\n",
       "    <tr>\n",
       "      <th>Jewellery-Women</th>\n",
       "      <th>unknown by ayesha</th>\n",
       "      <td>70.000000</td>\n",
       "      <td>70</td>\n",
       "      <td>70</td>\n",
       "    </tr>\n",
       "    <tr>\n",
       "      <th>Lingerie&amp;Nightwear-Women</th>\n",
       "      <th>nayomi</th>\n",
       "      <td>65.800000</td>\n",
       "      <td>77</td>\n",
       "      <td>50</td>\n",
       "    </tr>\n",
       "    <tr>\n",
       "      <th>Jewellery-Women</th>\n",
       "      <th>jewelz</th>\n",
       "      <td>65.000000</td>\n",
       "      <td>65</td>\n",
       "      <td>65</td>\n",
       "    </tr>\n",
       "    <tr>\n",
       "      <th>Westernwear-Women</th>\n",
       "      <th>myshka</th>\n",
       "      <td>63.333333</td>\n",
       "      <td>70</td>\n",
       "      <td>50</td>\n",
       "    </tr>\n",
       "  </tbody>\n",
       "</table>\n",
       "</div>"
      ],
      "text/plain": [
       "                                                   mean  max  min\n",
       "Category                 BrandName                               \n",
       "Indianwear-Women         gas                  75.000000   75   75\n",
       "                         marie claire         75.000000   75   75\n",
       "Lingerie&Nightwear-Women myshka               75.000000   80   70\n",
       "Indianwear-Women         myshka               72.059701   85   10\n",
       "                         varkala silk sarees  70.689655   75   25\n",
       "                         back to earth        70.000000   70   70\n",
       "Jewellery-Women          unknown by ayesha    70.000000   70   70\n",
       "Lingerie&Nightwear-Women nayomi               65.800000   77   50\n",
       "Jewellery-Women          jewelz               65.000000   65   65\n",
       "Westernwear-Women        myshka               63.333333   70   50"
      ]
     },
     "execution_count": 26,
     "metadata": {},
     "output_type": "execute_result"
    }
   ],
   "source": [
    "b.nlargest(10,'mean')"
   ]
  },
  {
   "cell_type": "code",
   "execution_count": 27,
   "id": "bf9cd1ef",
   "metadata": {
    "execution": {
     "iopub.execute_input": "2022-07-31T19:13:56.588048Z",
     "iopub.status.busy": "2022-07-31T19:13:56.587320Z",
     "iopub.status.idle": "2022-07-31T19:13:57.095384Z",
     "shell.execute_reply": "2022-07-31T19:13:57.094612Z"
    },
    "papermill": {
     "duration": 0.520321,
     "end_time": "2022-07-31T19:13:57.097448",
     "exception": false,
     "start_time": "2022-07-31T19:13:56.577127",
     "status": "completed"
    },
    "tags": []
   },
   "outputs": [
    {
     "data": {
      "text/plain": [
       "<AxesSubplot:xlabel='Category', ylabel='Disnew'>"
      ]
     },
     "execution_count": 27,
     "metadata": {},
     "output_type": "execute_result"
    },
    {
     "data": {
      "image/png": "[encoded data removed]",
      "text/plain": [
       "<Figure size 1440x648 with 2 Axes>"
      ]
     },
     "metadata": {
      "needs_background": "light"
     },
     "output_type": "display_data"
    }
   ],
   "source": [
    "plt.figure(figsize=(20,9),edgecolor='black')\n",
    "plt.subplot(1,2,1)\n",
    "sns.boxplot(x='Category',y='MRPNew',data=data)\n",
    "plt.subplot(1,2,2)\n",
    "sns.boxplot(x='Category',y='Disnew',data=data)"
   ]
  },
  {
   "cell_type": "code",
   "execution_count": 28,
   "id": "ef51d235",
   "metadata": {
    "execution": {
     "iopub.execute_input": "2022-07-31T19:13:57.118312Z",
     "iopub.status.busy": "2022-07-31T19:13:57.117724Z",
     "iopub.status.idle": "2022-07-31T19:13:57.208293Z",
     "shell.execute_reply": "2022-07-31T19:13:57.206936Z"
    },
    "papermill": {
     "duration": 0.104732,
     "end_time": "2022-07-31T19:13:57.211583",
     "exception": false,
     "start_time": "2022-07-31T19:13:57.106851",
     "status": "completed"
    },
    "tags": []
   },
   "outputs": [
    {
     "data": {
      "text/plain": [
       "<matplotlib.collections.PathCollection at 0x7f5eca8e1590>"
      ]
     },
     "execution_count": 28,
     "metadata": {},
     "output_type": "execute_result"
    },
    {
     "data": {
      "image/png": "[encoded data removed]",
      "text/plain": [
       "<Figure size 432x288 with 1 Axes>"
      ]
     },
     "metadata": {
      "needs_background": "light"
     },
     "output_type": "display_data"
    }
   ],
   "source": [
    "plt.scatter('MRPNew','Disnew')"
   ]
  }
 ],
 "metadata": {
  "kernelspec": {
   "display_name": "Python 3",
   "language": "python",
   "name": "python3"
  },
  "language_info": {
   "codemirror_mode": {
    "name": "ipython",
    "version": 3
   },
   "file_extension": ".py",
   "mimetype": "text/x-python",
   "name": "python",
   "nbconvert_exporter": "python",
   "pygments_lexer": "ipython3",
   "version": "3.7.12"
  },
  "papermill": {
   "default_parameters": {},
   "duration": 12.742605,
   "end_time": "2022-07-31T19:13:57.955951",
   "environment_variables": {},
   "exception": null,
   "input_path": "__notebook__.ipynb",
   "output_path": "__notebook__.ipynb",
   "parameters": {},
   "start_time": "2022-07-31T19:13:45.213346",
   "version": "2.3.4"
  }
 },
 "nbformat": 4,
 "nbformat_minor": 5
}
